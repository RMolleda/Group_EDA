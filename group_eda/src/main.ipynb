{
 "metadata": {
  "language_info": {
   "codemirror_mode": {
    "name": "ipython",
    "version": 3
   },
   "file_extension": ".py",
   "mimetype": "text/x-python",
   "name": "python",
   "nbconvert_exporter": "python",
   "pygments_lexer": "ipython3",
   "version": "3.9.0-final"
  },
  "orig_nbformat": 2,
  "kernelspec": {
   "name": "python3",
   "display_name": "Python 3",
   "language": "python"
  }
 },
 "nbformat": 4,
 "nbformat_minor": 2,
 "cells": [
  {
   "source": [
    "### Importing libraries & functions"
   ],
   "cell_type": "markdown",
   "metadata": {}
  },
  {
   "cell_type": "code",
   "execution_count": 26,
   "metadata": {},
   "outputs": [],
   "source": [
    "import pandas as pd\n",
    "from utils.others_tb import give_json"
   ]
  },
  {
   "source": [
    "### Collecting the data"
   ],
   "cell_type": "markdown",
   "metadata": {}
  },
  {
   "cell_type": "code",
   "execution_count": 27,
   "metadata": {},
   "outputs": [],
   "source": [
    "url = 'https://covid.ourworldindata.org/data/owid-covid-data.csv'\n",
    "df = pd.read_csv(url)"
   ]
  },
  {
   "source": [
    "### Cleaning the data"
   ],
   "cell_type": "markdown",
   "metadata": {}
  },
  {
   "cell_type": "code",
   "execution_count": 29,
   "metadata": {},
   "outputs": [],
   "source": [
    "# Change the date column to datetime format\n",
    "df['date'] = pd.to_datetime(df['date'])\n",
    "# Dropping columns that are entirely composed of NANs\n",
    "df = df.dropna(axis=1, how='all')"
   ]
  },
  {
   "source": [
    "### Group C constraints"
   ],
   "cell_type": "markdown",
   "metadata": {}
  },
  {
   "cell_type": "code",
   "execution_count": 33,
   "metadata": {},
   "outputs": [],
   "source": [
    "countries = ['Spain', 'Iran', 'Mexico', 'Brazil', 'Netherlands']\n",
    "col = 'new_cases'"
   ]
  },
  {
   "source": [
    "### Obtaining json file from group C constraints"
   ],
   "cell_type": "markdown",
   "metadata": {}
  },
  {
   "cell_type": "code",
   "execution_count": 34,
   "metadata": {},
   "outputs": [],
   "source": [
    "the_json = give_json(df=df, countries=countries, column_of_interest=col)"
   ]
  }
 ]
}