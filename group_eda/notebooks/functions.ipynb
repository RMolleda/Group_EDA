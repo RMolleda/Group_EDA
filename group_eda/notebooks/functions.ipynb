{
 "metadata": {
  "language_info": {
   "codemirror_mode": {
    "name": "ipython",
    "version": 3
   },
   "file_extension": ".py",
   "mimetype": "text/x-python",
   "name": "python",
   "nbconvert_exporter": "python",
   "pygments_lexer": "ipython3",
   "version": 3
  },
  "orig_nbformat": 2
 },
 "nbformat": 4,
 "nbformat_minor": 2,
 "cells": [
  {
   "cell_type": "code",
   "execution_count": null,
   "metadata": {},
   "outputs": [],
   "source": [
    "def give_json(country1, country2, country3, country4, country5):\n",
    "    # Importing library\n",
    "    import pandas as pd\n",
    "    # Getting url to import data\n",
    "    url = 'https://covid.ourworldindata.org/data/owid-covid-data.csv'\n",
    "    df = pd.read_csv(url)\n",
    "    # Constraints of group C\n",
    "    mask = (df['location'] == country1) | (df['location'] == country2) | (df['location'] == country3) | (df['location'] == country4) | (df['location'] == country5)\n",
    "    # Changing date series to datetime fromat\n",
    "    df['date'] = pd.to_datetime(df['date'])\n",
    "    a = df[mask].groupby('date').mean()[['total_cases']]\n",
    "    a = a.rename(columns={\"total_cases\": \"t_c_avg\"})\n",
    "    return a.to_json()\n",
    "give_json('Spain', 'Iran', 'Brazil', 'Mexico', 'Netherlands')"
   ]
  }
 ]
}